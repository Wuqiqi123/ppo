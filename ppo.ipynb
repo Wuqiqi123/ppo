{
 "cells": [
  {
   "cell_type": "markdown",
   "metadata": {},
   "source": [
    "## Policy Gradient\n",
    "To maximize the objective function $J(\\theta)$\n",
    "    $$\n",
    "    \\underset{\\theta}{\\operatorname{arg max}}J(\\theta) = \\underset{\\theta}{\\operatorname{arg max}} \\mathbb{E}_{s \\sim d_\\pi}\\left [ \\right ] \n",
    "    $$\n",
    "we can use the policy gradient theorem:\n",
    "$$\n",
    "\\nabla_\\theta J(\\theta)  = \\mathbb{E}_{s \\sim d_\\pi}\\left [\\mathbb{E}_{a \\sim \\pi_{\\theta}(\\cdot \\vert s)} [Q_\\pi(s, a) \\nabla_\\theta \\ln \\pi_\\theta(a \\vert s)] \\right ] \n",
    "$$\n",
    "Sample from $a \\sim \\pi_{\\theta}(\\cdot \\vert s)$ and a monte carlo estimation of $\\nabla_\\theta J(\\theta)$ is:\n",
    "$$\n",
    "\\boldsymbol{g}_\\theta(s, a) \\doteq Q_{\\pi_\\theta}(s, a) \\nabla_\\theta \\ln \\pi_\\theta(a \\vert s)\n",
    "$$\n",
    "\n",
    "## Generalization Advantage Estimation(GAE)\n",
    "$$\n",
    "\\hat{A}_t^{GAE(\\gamma, \\lambda)} = \\sum_{l=0}^{\\infty} (\\gamma \\lambda)^l \\delta_{t+l}\n",
    "$$\n",
    "![](./doc/gae_0.png)\n",
    "![](./doc/gae_1.png)\n",
    "\n",
    "![](./doc/gae_2.png)\n",
    "\n",
    "\n",
    "## The TRPO formula\n",
    "Importance sampling ratio:\n",
    "$$\n",
    "\\underset{\\theta}{\\operatorname{arg max}} \\mathbb{E}_{s}\\left [\\mathbb{E}_{a \\sim \\pi_{\\theta_\\text{old}}(\\cdot \\vert s)} [  \\frac{\\pi_\\theta(a \\vert s)}{\\pi_{\\theta_\\text{old}}(a \\vert s)} \\hat{A}_{\\theta_\\text{old}}(s, a) ] \\right]\n",
    "$$\n",
    "\n",
    "## The PPO Algorithm\n",
    "$$\n",
    "\\underset{\\theta}{\\operatorname{arg max}} \\mathbb{E}_{s}\\left [\\mathbb{E}_{a \\sim \\pi_{\\theta_\\text{old}}(\\cdot \\vert s)} [\\min(\\frac{\\pi_\\theta(a \\vert s)}{\\pi_{\\theta_\\text{old}}(a \\vert s)} \\hat{A}_{\\theta_\\text{old}}(s, a), \\text{clip}(\\frac{\\pi_\\theta(a \\vert s)}{\\pi_{\\theta_\\text{old}}(a \\vert s)}, 1 - \\epsilon, 1 + \\epsilon) \\hat{A}_{\\theta_\\text{old}}(s, a))]\\right]\n",
    "$$\n"
   ]
  }
 ],
 "metadata": {
  "language_info": {
   "name": "python"
  }
 },
 "nbformat": 4,
 "nbformat_minor": 2
}
